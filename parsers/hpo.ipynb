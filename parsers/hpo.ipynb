{
 "cells": [
  {
   "cell_type": "code",
   "execution_count": 275,
   "id": "9cf4ea61",
   "metadata": {
    "scrolled": true
   },
   "outputs": [],
   "source": [
    "# Import \n",
    "import pandas as pd\n",
    "import re\n",
    "import os \n",
    "from pathlib import Path"
   ]
  },
  {
   "cell_type": "code",
   "execution_count": 278,
   "id": "viral-binary",
   "metadata": {},
   "outputs": [],
   "source": [
    "# Get RAW directory from notebook and snakemake .. \n",
    "RAW_DIRECTORY = os.getcwd().replace(\"parsers\",\"\") + \"/raw\""
   ]
  },
  {
   "cell_type": "code",
   "execution_count": 279,
   "id": "33b9f279-88f0-43f1-8809-c64e59faeff9",
   "metadata": {},
   "outputs": [],
   "source": [
    "RAW_FILE = f\"{RAW_DIRECTORY}/genes_to_phenotype.txt\"\n",
    "GENE_MAP =  f\"{RAW_DIRECTORY}/gene_map.csv\""
   ]
  },
  {
   "cell_type": "code",
   "execution_count": 280,
   "id": "fifty-demand",
   "metadata": {},
   "outputs": [],
   "source": [
    "# Create a genemap :   entrez_id : ensembl_id \n",
    "genemap = pd.read_csv(GENE_MAP, sep=\"\\t\")\n",
    "genemap = genemap[[\"entrez_id\",\"ensembl_gene_id\"]].drop_duplicates().set_index(\"entrez_id\").to_dict()[\"ensembl_gene_id\"]"
   ]
  },
  {
   "cell_type": "code",
   "execution_count": 273,
   "id": "68d7456d",
   "metadata": {},
   "outputs": [
    {
     "data": {
      "text/html": [
       "<div>\n",
       "<style scoped>\n",
       "    .dataframe tbody tr th:only-of-type {\n",
       "        vertical-align: middle;\n",
       "    }\n",
       "\n",
       "    .dataframe tbody tr th {\n",
       "        vertical-align: top;\n",
       "    }\n",
       "\n",
       "    .dataframe thead th {\n",
       "        text-align: right;\n",
       "    }\n",
       "</style>\n",
       "<table border=\"1\" class=\"dataframe\">\n",
       "  <thead>\n",
       "    <tr style=\"text-align: right;\">\n",
       "      <th></th>\n",
       "      <th>ensembl_id</th>\n",
       "      <th>hpo</th>\n",
       "    </tr>\n",
       "  </thead>\n",
       "  <tbody>\n",
       "    <tr>\n",
       "      <th>0</th>\n",
       "      <td>ENSG00000090861</td>\n",
       "      <td>HP:0003477|HP:0001761|HP:0001765|HP:0002460|HP...</td>\n",
       "    </tr>\n",
       "    <tr>\n",
       "      <th>1</th>\n",
       "      <td>ENSG00000183044</td>\n",
       "      <td>HP:0006829|HP:0001250|HP:0001321|HP:0025430|HP...</td>\n",
       "    </tr>\n",
       "    <tr>\n",
       "      <th>2</th>\n",
       "      <td>ENSG00000165029</td>\n",
       "      <td>HP:0001712|HP:0001744|HP:0003693|HP:0002240|HP...</td>\n",
       "    </tr>\n",
       "    <tr>\n",
       "      <th>3</th>\n",
       "      <td>ENSG00000107331</td>\n",
       "      <td>HP:0002066|HP:0001260|HP:0003141|HP:0001250|HP...</td>\n",
       "    </tr>\n",
       "    <tr>\n",
       "      <th>4</th>\n",
       "      <td>ENSG00000167972</td>\n",
       "      <td>HP:0002615|HP:0012418|HP:0000961|HP:0001662|HP...</td>\n",
       "    </tr>\n",
       "    <tr>\n",
       "      <th>...</th>\n",
       "      <td>...</td>\n",
       "      <td>...</td>\n",
       "    </tr>\n",
       "    <tr>\n",
       "      <th>4699</th>\n",
       "      <td>ENSG00000225484</td>\n",
       "      <td>HP:0002460|HP:0001337|HP:0000508|HP:0003581|HP...</td>\n",
       "    </tr>\n",
       "    <tr>\n",
       "      <th>4700</th>\n",
       "      <td>ENSG00000281344</td>\n",
       "      <td>HP:0003641|HP:0100598|HP:0008071|HP:0011419|HP...</td>\n",
       "    </tr>\n",
       "    <tr>\n",
       "      <th>4701</th>\n",
       "      <td>ENSG00000244040</td>\n",
       "      <td>HP:0001701|HP:0002637|HP:0001824|HP:0100654|HP...</td>\n",
       "    </tr>\n",
       "    <tr>\n",
       "      <th>4703</th>\n",
       "      <td>ENSG00000284395</td>\n",
       "      <td>HP:0002014|HP:0011473|HP:0000007</td>\n",
       "    </tr>\n",
       "    <tr>\n",
       "      <th>4706</th>\n",
       "      <td>ENSG00000288677</td>\n",
       "      <td>HP:0000653|HP:0002231|HP:0003777|HP:0000535|HP...</td>\n",
       "    </tr>\n",
       "  </tbody>\n",
       "</table>\n",
       "<p>4698 rows × 2 columns</p>\n",
       "</div>"
      ],
      "text/plain": [
       "           ensembl_id                                                hpo\n",
       "0     ENSG00000090861  HP:0003477|HP:0001761|HP:0001765|HP:0002460|HP...\n",
       "1     ENSG00000183044  HP:0006829|HP:0001250|HP:0001321|HP:0025430|HP...\n",
       "2     ENSG00000165029  HP:0001712|HP:0001744|HP:0003693|HP:0002240|HP...\n",
       "3     ENSG00000107331  HP:0002066|HP:0001260|HP:0003141|HP:0001250|HP...\n",
       "4     ENSG00000167972  HP:0002615|HP:0012418|HP:0000961|HP:0001662|HP...\n",
       "...               ...                                                ...\n",
       "4699  ENSG00000225484  HP:0002460|HP:0001337|HP:0000508|HP:0003581|HP...\n",
       "4700  ENSG00000281344  HP:0003641|HP:0100598|HP:0008071|HP:0011419|HP...\n",
       "4701  ENSG00000244040  HP:0001701|HP:0002637|HP:0001824|HP:0100654|HP...\n",
       "4703  ENSG00000284395                   HP:0002014|HP:0011473|HP:0000007\n",
       "4706  ENSG00000288677  HP:0000653|HP:0002231|HP:0003777|HP:0000535|HP...\n",
       "\n",
       "[4698 rows x 2 columns]"
      ]
     },
     "execution_count": 273,
     "metadata": {},
     "output_type": "execute_result"
    }
   ],
   "source": [
    "headers = next(open(RAW_FILE)).replace(\"#Format:\",\"\").strip().split(\"<tab>\")\n",
    "df = pd.read_csv(RAW_FILE, \n",
    "            comment=\"#\", \n",
    "            delimiter=\"\\t\",\n",
    "            names=[\"gene_id\",\"gene\",\"hpo\",\"term_name\",\"raw\",\"freq\",\"additional\",\"source\",\"omim\"]\n",
    "           )\n",
    "\n",
    "# Join HPO terms by gene \n",
    "gdf = df.groupby(\"gene_id\").agg({\"hpo\": lambda x: \"|\".join(x)}).reset_index().copy()\n",
    "\n",
    "\n",
    "gdf[\"ensembl_id\"] = gdf[\"gene_id\"].map(genemap)\n",
    "\n",
    "# debug >>>>\n",
    "skip_genes = df[df[\"gene_id\"].isin(gdf[gdf[\"ensembl_id\"].isna()][\"gene_id\"].to_list())][\"gene\"].unique()\n",
    "# debug <<<<\n",
    "\n",
    "gdf = gdf.dropna()[[\"ensembl_id\",\"hpo\"]]\n",
    "\n",
    "gdf"
   ]
  },
  {
   "cell_type": "code",
   "execution_count": 241,
   "id": "874eea43",
   "metadata": {
    "scrolled": true
   },
   "outputs": [
    {
     "ename": "NameError",
     "evalue": "name 'snakemake' is not defined",
     "output_type": "error",
     "traceback": [
      "\u001b[0;31m---------------------------------------------------------------------------\u001b[0m",
      "\u001b[0;31mNameError\u001b[0m                                 Traceback (most recent call last)",
      "\u001b[0;32m<ipython-input-241-6b38849bf9e3>\u001b[0m in \u001b[0;36m<module>\u001b[0;34m\u001b[0m\n\u001b[1;32m      2\u001b[0m \u001b[0;31m#output = \"/tmp/test.csv\"\u001b[0m\u001b[0;34m\u001b[0m\u001b[0;34m\u001b[0m\u001b[0;34m\u001b[0m\u001b[0m\n\u001b[1;32m      3\u001b[0m \u001b[0;34m\u001b[0m\u001b[0m\n\u001b[0;32m----> 4\u001b[0;31m \u001b[0moutput\u001b[0m \u001b[0;34m=\u001b[0m \u001b[0msnakemake\u001b[0m\u001b[0;34m.\u001b[0m\u001b[0moutput\u001b[0m\u001b[0;34m[\u001b[0m\u001b[0;36m0\u001b[0m\u001b[0;34m]\u001b[0m\u001b[0;34m\u001b[0m\u001b[0;34m\u001b[0m\u001b[0m\n\u001b[0m\u001b[1;32m      5\u001b[0m \u001b[0;34m\u001b[0m\u001b[0m\n\u001b[1;32m      6\u001b[0m descriptions = (\n",
      "\u001b[0;31mNameError\u001b[0m: name 'snakemake' is not defined"
     ]
    }
   ],
   "source": [
    "# UNIQUEMENT POUR SNAKEMAKE .... \n",
    "#output = \"/tmp/test.csv\"\n",
    "\n",
    "output = snakemake.output[0]\n",
    "\n",
    "descriptions = (\n",
    "(\"title\", \"hpo\"),\n",
    "(\"description\", \"HPO terms\"),\n",
    "(\"version\", \"no idea\"),\n",
    "(\"ensembl_id\", \"ensembl gene id \"),\n",
    "(\"hpo\", \"HPO annotation list \")\n",
    ")\n",
    "\n",
    "with open(output,\"w\") as f:\n",
    "    for d in descriptions:\n",
    "        f.write(\"#\" + \"\\t\".join(d) +\"\\n\")\n",
    "        \n",
    "    gdf.to_csv(f,sep=\"\\t\", index=False)"
   ]
  },
  {
   "cell_type": "code",
   "execution_count": 240,
   "id": "a73dc11e",
   "metadata": {},
   "outputs": [
    {
     "name": "stdout",
     "output_type": "stream",
     "text": [
      "#title\thpo\r\n",
      "#description\tHPO terms\r\n",
      "#version\tno idea\r\n",
      "#ensembl_id\tensembl gene id \r\n",
      "#hpo\tHPO annotation list \r\n",
      "ensembl_id\thpo\r\n",
      "ENSG00000090861\tHP:0003477|HP:0001761|HP:0001765|HP:0002460|HP:0001284|HP:0003828|HP:0009027|HP:0000407|HP:0003431|HP:0000006|HP:0002936|HP:0003202|HP:0002059|HP:0001263|HP:0001511|HP:0002827|HP:0002072|HP:0000252|HP:0004322|HP:0009830|HP:0000643|HP:0200134|HP:0001508|HP:0003577|HP:0000639|HP:0001284|HP:0001257|HP:0001250|HP:0001290|HP:0003429|HP:0001298|HP:0000007|HP:0002063|HP:0000508|HP:0001268|HP:0001336|HP:0001290|HP:0001337|HP:0001298|HP:0000648|HP:0001263|HP:0002521|HP:0001265|HP:0002020|HP:0000252|HP:0100710|HP:0001249|HP:0002421|HP:0001273|HP:0011968|HP:0002133|HP:0000494|HP:0007018|HP:0002509|HP:0002376|HP:0100660|HP:0012447|HP:0004322|HP:0000504|HP:0001508|HP:0000546|HP:0002317|HP:0001251|HP:0001257|HP:0000717|HP:0002059|HP:0000348|HP:0000750|HP:0000639|HP:0001558|HP:0010844|HP:0000668|HP:0002355\r\n",
      "ENSG00000183044\tHP:0006829|HP:0001250|HP:0001321|HP:0025430|HP:0001263|HP:0002415|HP:0007291|HP:0000007|HP:0025356|HP:0001274|HP:0001254|HP:0000278|HP:0001347|HP:0003819|HP:0000098|HP:0000494\r\n",
      "ENSG00000165029\tHP:0001712|HP:0001744|HP:0003693|HP:0002240|HP:0003233|HP:0008404|HP:0000505|HP:0001658|HP:0010829|HP:0007759|HP:0000007|HP:0001265|HP:0011096|HP:0025608|HP:0000656|HP:0001349|HP:0000958|HP:0002164|HP:0007328|HP:0001677|HP:0003477|HP:0000656|HP:0001712|HP:0001873|HP:0001903|HP:0010829|HP:0030814|HP:0000958|HP:0002730|HP:0100546|HP:0002155|HP:0001349|HP:0007133|HP:0003396|HP:0003477|HP:0002460|HP:0001433|HP:0002027|HP:0007957|HP:0003146|HP:0005145|HP:0008404|HP:0004943|HP:0003233|HP:0005181|HP:0001658|HP:0000006|HP:0001392|HP:0000622|HP:0001744|HP:0003233|HP:0000991|HP:0001903|HP:0003457|HP:0002716|HP:0004374|HP:0007957\r\n",
      "ENSG00000107331\tHP:0002066|HP:0001260|HP:0003141|HP:0001250|HP:0031936|HP:0000519|HP:0011342|HP:0002286|HP:0001324|HP:0000252|HP:0000007|HP:0000718|HP:0002311|HP:0001256\r\n"
     ]
    }
   ],
   "source": [
    "!head /tmp/test.csv"
   ]
  },
  {
   "cell_type": "code",
   "execution_count": null,
   "id": "conceptual-representative",
   "metadata": {},
   "outputs": [],
   "source": []
  }
 ],
 "metadata": {
  "celltoolbar": "Aucun(e)",
  "kernelspec": {
   "display_name": "Python 3",
   "language": "python",
   "name": "python3"
  },
  "language_info": {
   "codemirror_mode": {
    "name": "ipython",
    "version": 3
   },
   "file_extension": ".py",
   "mimetype": "text/x-python",
   "name": "python",
   "nbconvert_exporter": "python",
   "pygments_lexer": "ipython3",
   "version": "3.9.5"
  }
 },
 "nbformat": 4,
 "nbformat_minor": 5
}
