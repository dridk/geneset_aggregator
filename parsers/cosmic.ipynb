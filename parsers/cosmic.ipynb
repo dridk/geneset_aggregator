{
 "cells": [
  {
   "cell_type": "code",
   "execution_count": 3,
   "id": "eight-algeria",
   "metadata": {},
   "outputs": [],
   "source": [
    "import pandas as pd \n",
    "import os"
   ]
  },
  {
   "cell_type": "code",
   "execution_count": 4,
   "id": "loaded-presence",
   "metadata": {},
   "outputs": [],
   "source": [
    "# Get RAW directory from notebook and snakemake .. \n",
    "RAW_DIRECTORY = os.getcwd().replace(\"parsers\",\"\") + \"/raw\""
   ]
  },
  {
   "cell_type": "code",
   "execution_count": 5,
   "id": "funny-material",
   "metadata": {},
   "outputs": [],
   "source": [
    "RAW_FILE = f\"{RAW_DIRECTORY}/cancer_gene_census.csv\"\n",
    "GENE_MAP =  f\"{RAW_DIRECTORY}/gene_map.csv\""
   ]
  },
  {
   "cell_type": "code",
   "execution_count": 9,
   "id": "amino-narrow",
   "metadata": {},
   "outputs": [],
   "source": [
    "# Create a genemap :   entrez_id : ensembl_id \n",
    "genemap = pd.read_csv(GENE_MAP, sep=\"\\t\")\n",
    "genemap = genemap[[\"entrez_id\",\"ensembl_gene_id\"]].drop_duplicates().set_index(\"entrez_id\").to_dict()[\"ensembl_gene_id\"]"
   ]
  },
  {
   "cell_type": "code",
   "execution_count": 25,
   "id": "moral-remedy",
   "metadata": {},
   "outputs": [],
   "source": [
    "df = pd.read_csv(RAW_FILE)\n",
    "df = df[[\"Entrez GeneId\",\"Tumour Types(Somatic)\",\"Tumour Types(Germline)\"]].dropna()\n",
    "df.columns = [\"entrez\",\"somatic\",\"germline\"]\n",
    "df[\"entrez\"] = df[\"entrez\"].astype(int)\n",
    "\n",
    "df[\"ensembl_id\"] = df[\"entrez\"].map(genemap)\n",
    "df.columns = [\"entrez\",\"somatic\",\"germline\", \"ensembl_id\"]\n",
    "\n",
    "df = df[[\"ensembl_id\", \"somatic\",\"germline\"]]"
   ]
  },
  {
   "cell_type": "code",
   "execution_count": 24,
   "id": "entitled-marketplace",
   "metadata": {},
   "outputs": [
    {
     "ename": "NameError",
     "evalue": "name 'snakemake' is not defined",
     "output_type": "error",
     "traceback": [
      "\u001b[0;31m---------------------------------------------------------------------------\u001b[0m",
      "\u001b[0;31mNameError\u001b[0m                                 Traceback (most recent call last)",
      "\u001b[0;32m<ipython-input-24-774d7345fc73>\u001b[0m in \u001b[0;36m<module>\u001b[0;34m\u001b[0m\n\u001b[0;32m----> 1\u001b[0;31m \u001b[0moutput\u001b[0m \u001b[0;34m=\u001b[0m \u001b[0msnakemake\u001b[0m\u001b[0;34m.\u001b[0m\u001b[0moutput\u001b[0m\u001b[0;34m[\u001b[0m\u001b[0;36m0\u001b[0m\u001b[0;34m]\u001b[0m\u001b[0;34m\u001b[0m\u001b[0;34m\u001b[0m\u001b[0m\n\u001b[0m\u001b[1;32m      2\u001b[0m \u001b[0;34m\u001b[0m\u001b[0m\n\u001b[1;32m      3\u001b[0m descriptions = (\n\u001b[1;32m      4\u001b[0m \u001b[0;34m(\u001b[0m\u001b[0;34m\"title\"\u001b[0m\u001b[0;34m,\u001b[0m \u001b[0;34m\"cosmic\"\u001b[0m\u001b[0;34m)\u001b[0m\u001b[0;34m,\u001b[0m\u001b[0;34m\u001b[0m\u001b[0;34m\u001b[0m\u001b[0m\n\u001b[1;32m      5\u001b[0m \u001b[0;34m(\u001b[0m\u001b[0;34m\"description\"\u001b[0m\u001b[0;34m,\u001b[0m \u001b[0;34m\"cosmic terms\"\u001b[0m\u001b[0;34m)\u001b[0m\u001b[0;34m,\u001b[0m\u001b[0;34m\u001b[0m\u001b[0;34m\u001b[0m\u001b[0m\n",
      "\u001b[0;31mNameError\u001b[0m: name 'snakemake' is not defined"
     ]
    }
   ],
   "source": [
    "output = snakemake.output[0]\n",
    "\n",
    "descriptions = (\n",
    "(\"title\", \"cosmic\"),\n",
    "(\"description\", \"cosmic terms\"),\n",
    "(\"version\", \"no idea\"),\n",
    "(\"ensembl_id\", \"ensembl gene id \"),\n",
    "(\"somatic\", \"bidule \"),\n",
    "(\"germine\", \"bidule \"),\n",
    "  \n",
    ")\n",
    "\n",
    "with open(output,\"w\") as f:\n",
    "    for d in descriptions:\n",
    "        f.write(\"#\" + \"\\t\".join(d) +\"\\n\")\n",
    "        \n",
    "    df.to_csv(f,sep=\"\\t\", index=False)"
   ]
  },
  {
   "cell_type": "code",
   "execution_count": null,
   "id": "adolescent-northwest",
   "metadata": {},
   "outputs": [],
   "source": []
  }
 ],
 "metadata": {
  "kernelspec": {
   "display_name": "Python 3",
   "language": "python",
   "name": "python3"
  },
  "language_info": {
   "codemirror_mode": {
    "name": "ipython",
    "version": 3
   },
   "file_extension": ".py",
   "mimetype": "text/x-python",
   "name": "python",
   "nbconvert_exporter": "python",
   "pygments_lexer": "ipython3",
   "version": "3.9.5"
  }
 },
 "nbformat": 4,
 "nbformat_minor": 5
}
